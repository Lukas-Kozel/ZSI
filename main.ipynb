{
 "cells": [
  {
   "cell_type": "markdown",
   "metadata": {},
   "source": [
    "# Zadání\n",
    "\n",
    "Na dodaném zvukovém souboru proveďte následující body. Postup a získané výsledky prezentujte krátkou zprávou se spoustou obrázků (ukázky spekter signálu před a po filtraci, spektrální charakteristiky filtrů apod.)\n",
    "\n",
    "1. **Návrh a vyzkoušení filtrů:**  \n",
    "   Navrhněte a vyzkoušejte několik variant FIR a IIR filtrů (např. různé řády modelu, různé okénkové funkce, …) pro odstranění parazitní frekvence. Diskutujte vliv řádu a typu filtru na výsledné zatlumení parazitní frekvence (zkuste alespoň jeden FIR filtr spočítat podle postupu z přednášek; ostatní můžete navrhnout přímo např. v Matlabu, Pythonu, …).\n",
    "\n",
    "2. **Převzorkování signálu:**  \n",
    "   Převeďte signál na vzorkovací frekvenci 8 kHz.\n",
    "   - *Pozor na aliasing efekt (nutnost frekvenčního omezení na 4 kHz).*\n",
    "\n",
    "3. **Odstranění aditivního šumu:**  \n",
    "   Zkuste z převzorkované nahrávky odstranit aditivní šum pomocí metody spektrálního odečtu:\n",
    "   - Rozdělte signál na nepřekrývající se krátké úseky (segmenty) délky *m* – ideálně.\n",
    "   - Spočítejte DFT pro každý segment (vlastním algoritmem FFT).\n",
    "   - Odhadněte amplitudové spektrum aditivního šumu (na neřečových segmentech).\n",
    "   - Aplikujte algoritmus odstranění aditivního šumu (přes všechny segmenty).\n",
    "   - Rekonstruujte řečový signál pomocí inverzní FFT (nezapomeňte na fázi, viz obrázek).\n",
    "   - Diskutujte různé velikosti FFT, různé váhy odečtu *α*, a možnosti odhadu šumového spektra (např. bodový odhad, průměr přes celou nahrávku, klouzavý průměr, …).\n",
    "\n",
    "Úlohu můžete řešit v libovolném jazyce. Pokud ji budete řešit v Matlabu či Pythonu (vřele doporučuji), alespoň FFT a jeden FIR filtr si zkuste udělat vlastní.\n"
   ]
  },
  {
   "cell_type": "markdown",
   "metadata": {},
   "source": [
    "# Vypracování"
   ]
  },
  {
   "cell_type": "markdown",
   "metadata": {},
   "source": [
    "## 1) FIR a IIR filtry\n"
   ]
  },
  {
   "cell_type": "markdown",
   "metadata": {},
   "source": [
    "Nejdříve je potřeba naimportovat všechny důležité knihovny a vlastní funkce"
   ]
  },
  {
   "cell_type": "code",
   "execution_count": null,
   "metadata": {},
   "outputs": [],
   "source": [
    "from scipy.io import wavfile\n",
    "from scipy.fft import fft\n",
    "from scipy.signal import butter, filtfilt, resample, spectrogram, freqz, firwin, cheby1, cheby2, ellip, sosfiltfilt\n",
    "import matplotlib.pyplot as plt\n",
    "import numpy as np\n",
    "from IPython.display import Audio\n",
    "import utils_functions "
   ]
  },
  {
   "cell_type": "markdown",
   "metadata": {},
   "source": [
    "### a) Nalezení parazitní frekvence"
   ]
  },
  {
   "cell_type": "code",
   "execution_count": null,
   "metadata": {},
   "outputs": [],
   "source": [
    "fs, data = wavfile.read('veta.wav')\n",
    "\n",
    "print(f\"Vzorkovací frekvence: {fs} Hz\")"
   ]
  },
  {
   "cell_type": "code",
   "execution_count": null,
   "metadata": {},
   "outputs": [],
   "source": [
    "#přehrání nahrávky před filtrací\n",
    "data_float = data.astype(np.float32)\n",
    "Audio(data=data,rate=fs)"
   ]
  },
  {
   "cell_type": "code",
   "execution_count": null,
   "metadata": {},
   "outputs": [],
   "source": [
    "# vykreslení spektrogramu pro obdržený audio záznam\n",
    "utils_functions.plot_spectrogram(data,fs)"
   ]
  },
  {
   "cell_type": "markdown",
   "metadata": {},
   "source": [
    "Již z tohoto grafu je velmi patrné, že parazitní signál je znázorněn vodorvonou přímkou, na frekvenci mezi 5000 Hz a 7500 Hz."
   ]
  },
  {
   "cell_type": "markdown",
   "metadata": {},
   "source": [
    "Následuje vykreslení amplitudové frekvenční charakteristiky pro audio záznam. Parazitní frekvence je i zde velmi dobře vidět, protože se projevuje velmi vysokou hodnoty amplitudy. "
   ]
  },
  {
   "cell_type": "code",
   "execution_count": null,
   "metadata": {},
   "outputs": [],
   "source": [
    "utils_functions.plot_amplitude_char(data,fs)"
   ]
  },
  {
   "cell_type": "markdown",
   "metadata": {},
   "source": [
    "Nalezení parazitní frekvence je provedeno pomocí převodu na frekvenční spektrum a následné nalezení, pro jakou frekvenci je amplituda největší."
   ]
  },
  {
   "cell_type": "code",
   "execution_count": null,
   "metadata": {},
   "outputs": [],
   "source": [
    "freqs, amp = utils_functions.compute_fourier(data,fs)\n",
    "\n",
    "parasite_freq_index = np.argmax(amp)\n",
    "parasite_freq = freqs[parasite_freq_index]\n",
    "print(\"parazitni frekvence: \",parasite_freq)"
   ]
  },
  {
   "cell_type": "markdown",
   "metadata": {},
   "source": [
    "Parazitní frekvence je tedy nalezena jako f_parazitni= 5499.993 Hz."
   ]
  },
  {
   "cell_type": "markdown",
   "metadata": {},
   "source": [
    "### b) FIR filtry\n",
    "V první části jsou navrženy FIR filtry pomocí Python knihoven. Všechny filtry jsou navrženy jako pásmová zádrž kolem nalezené parazitní frekvence, což vede na její potlačení. \n",
    "\n",
    "Nejdříve je demonstrován vliv volby okénkové funkce na amplitudovou charakteristiku samotného filtru, následně je filtr aplikován na signál ze zadání a je vykreslen spektrogram pro odfiltrovaný signál. \n",
    "\n",
    "Pro každý filtr je pak znázorněno i porovnání amplitudové charakteristiky před filtrací a po filtraci.\n"
   ]
  },
  {
   "cell_type": "markdown",
   "metadata": {},
   "source": [
    "Volba řádu filtru a šířky pásma byla určena experimentálně. Nízké řády (řád < 100) vykazují v daném kontextu příliš široké přechodové pásmo – útlum parazitní frekvence tak není dostatečný. Pro řády vyšší je naopak rozdíl v potlačení vyšší, ale vliv na zadanou nahrávku je pro vysoké řády zanedbatelný a není tak důvod zesilovat útlum více, než je požadováno. \n",
    "Proto byl řád zvolen jako 255. Co se týče velikost zádržného pásma, tak to je voleno tak, aby filtr dokázal potlačit parazitní frekvenci a ovlivnil co nejméně vedlejší řečový signál. Nízké pásmo by mohlo vést k neuplnému potlačení parazitního signálu, naopak příliš široké pásmo by způsobilo, že by došlo k potlačení i frekvencí, kde se vyskytuje pouze řečový signál. "
   ]
  },
  {
   "cell_type": "code",
   "execution_count": null,
   "metadata": {},
   "outputs": [],
   "source": [
    "# definice hranic pro pásmovou zádrž\n",
    "band_width = 300\n",
    "original_data = data.copy()\n",
    "dolni_mez = parasite_freq - band_width\n",
    "horni_mez = parasite_freq + band_width\n",
    "\n",
    "filter_order = 255 # zvolený pevný řád filtru pro testování vlivu různých okénkových funkcí"
   ]
  },
  {
   "cell_type": "markdown",
   "metadata": {},
   "source": [
    "#### b.1) Okénková funkce Hann"
   ]
  },
  {
   "cell_type": "code",
   "execution_count": null,
   "metadata": {},
   "outputs": [],
   "source": [
    "fir_coeff = firwin(filter_order,[dolni_mez, horni_mez],window=\"hann\",pass_zero=True, fs=fs)\n",
    "\n",
    "filtered_data = filtfilt(fir_coeff,[1.0],data)\n",
    "\n",
    "utils_functions.plot_graph_FIR(fir_coeff,filtered_data, original_data, fs,\"okénková funkce Hann, řád filtru = \"+str(filter_order))"
   ]
  },
  {
   "cell_type": "markdown",
   "metadata": {},
   "source": [
    "Z grafu spektrogramu je vidět, že aplikace FIR filtru spolu s Hannovo okénkovou funkcí způsobila, že amplituda na parazitní frekvenci velmi silně poklesla. Toto tvrzení podporuje i graf amplitudové frekvenční charakteristiky, kde se signál před filtrací a po filtraci téměř perfektně překrývá, kromě právě okolí parazitní frekvence, kde je amplituda signálu velmi silně potlačena."
   ]
  },
  {
   "cell_type": "code",
   "execution_count": null,
   "metadata": {},
   "outputs": [],
   "source": [
    "#přehrání nahrávky po filtraci \n",
    "data_float = filtered_data.astype(np.float32)\n",
    "Audio(data=filtered_data,rate=fs)"
   ]
  },
  {
   "cell_type": "markdown",
   "metadata": {},
   "source": [
    "#### b.2) Okénková funkce Hamming"
   ]
  },
  {
   "cell_type": "code",
   "execution_count": null,
   "metadata": {},
   "outputs": [],
   "source": [
    "\n",
    "fir_coeff = firwin(filter_order,[dolni_mez, horni_mez],window=\"hamming\",pass_zero=True, fs=fs) \n",
    "\n",
    "filtered_data = filtfilt(fir_coeff,[1.0],data)\n",
    "\n",
    "utils_functions.plot_graph_FIR(fir_coeff,filtered_data,original_data,fs,\"okénková funkce Hamming, řád filtru = \"+str(filter_order))"
   ]
  },
  {
   "cell_type": "markdown",
   "metadata": {},
   "source": [
    "Výsledky z grafů jsou velmi podobné předchozímu příkladu. Zásadně se liší především amplitudová charakteristika samotného filtru."
   ]
  },
  {
   "cell_type": "code",
   "execution_count": null,
   "metadata": {},
   "outputs": [],
   "source": [
    "#přehrání nahrávky po filtraci \n",
    "data_float = filtered_data.astype(np.float32)\n",
    "Audio(data=filtered_data,rate=fs)"
   ]
  },
  {
   "cell_type": "markdown",
   "metadata": {},
   "source": [
    "#### b.3) Okénková funkce Blackman"
   ]
  },
  {
   "cell_type": "code",
   "execution_count": null,
   "metadata": {},
   "outputs": [],
   "source": [
    "fir_coeff = firwin(filter_order,[dolni_mez, horni_mez],window=\"blackman\",pass_zero=True, fs=fs)\n",
    "\n",
    "filtered_data = filtfilt(fir_coeff,[1.0],data)\n",
    "\n",
    "utils_functions.plot_graph_FIR(fir_coeff,filtered_data,original_data,fs,\"okénková funkce Blackman, řád filtru = \"+str(filter_order))"
   ]
  },
  {
   "cell_type": "markdown",
   "metadata": {},
   "source": [
    "Znovu jsou dosažené výsledky velmi podobné jako u ostatních okénkových funkcí. Zásadně se liší především amplitudová charakteristika samotného filtru."
   ]
  },
  {
   "cell_type": "code",
   "execution_count": null,
   "metadata": {},
   "outputs": [],
   "source": [
    "#přehrání nahrávky po filtraci \n",
    "data_float = filtered_data.astype(np.float32)\n",
    "Audio(data=filtered_data,rate=fs)"
   ]
  },
  {
   "cell_type": "markdown",
   "metadata": {},
   "source": [
    "#### b.4) Okénková funkce Pravoúhlé okénko"
   ]
  },
  {
   "cell_type": "code",
   "execution_count": null,
   "metadata": {},
   "outputs": [],
   "source": [
    "\n",
    "fir_coeff = firwin(filter_order,[dolni_mez, horni_mez],window=\"boxcar\",pass_zero=True, fs=fs)\n",
    "\n",
    "filtered_data = filtfilt(fir_coeff,[1.0],data)\n",
    "\n",
    "utils_functions.plot_graph_FIR(fir_coeff,filtered_data,original_data, fs,\"okénková funkce pravoúhlé okénko, řád filtru = \"+str(filter_order))\n"
   ]
  },
  {
   "cell_type": "markdown",
   "metadata": {},
   "source": [
    "Znovu jsou dosažené výsledky velmi podobné jako u ostatních okénkových funkcí. Zásadně se liší především amplitudová charakteristika samotného filtru, která je velmi kmitavá, což je očekávané. Volbou vyššího řádu filtru by překmity zůstaly stejné, ale snižovalo by se přechodové pásmo."
   ]
  },
  {
   "cell_type": "code",
   "execution_count": null,
   "metadata": {},
   "outputs": [],
   "source": [
    "#přehrání nahrávky po filtraci \n",
    "data_float = filtered_data.astype(np.float32)\n",
    "Audio(data=filtered_data,rate=fs)"
   ]
  },
  {
   "cell_type": "markdown",
   "metadata": {},
   "source": [
    "#### b.5) Okénková funkce Hamming s nižším řádem\n",
    "V této části je znázorněn vliv řádu filtru na úspěšnost potlačení ideálně pouze parazitního signálu, tedy parazitní frekvence."
   ]
  },
  {
   "cell_type": "code",
   "execution_count": null,
   "metadata": {},
   "outputs": [],
   "source": [
    "filter_order = 55 # zvolený řád je 55\n",
    "\n",
    "fir_coeff = firwin(filter_order,[dolni_mez, horni_mez],window=\"hamming\",pass_zero=True, fs=fs)\n",
    "\n",
    "filtered_data = filtfilt(fir_coeff,[1.0],data)\n",
    "\n",
    "utils_functions.plot_graph_FIR(fir_coeff,filtered_data,original_data,fs,\"okénková funkce Hamming, řád filtru = \"+str(filter_order))"
   ]
  },
  {
   "cell_type": "markdown",
   "metadata": {},
   "source": [
    "Na těchto grafech lze pozorovat, že volbou nízkého řádu je přechodové pásmo filtru velmi velké a amplituda samotného filtru je velmi nízká. Takovýto řád filtru tedy není schopen potlačit působení celého parazitního signálu, ale dokáže jej pouze mírně zeslabit. To je ostatně velmi zřejmé na spektrogramu a amplitudové frekvenční charakteristice."
   ]
  },
  {
   "cell_type": "code",
   "execution_count": null,
   "metadata": {},
   "outputs": [],
   "source": [
    "#přehrání nahrávky po filtraci \n",
    "data_float = filtered_data.astype(np.float32)\n",
    "Audio(data=filtered_data,rate=fs)"
   ]
  },
  {
   "cell_type": "markdown",
   "metadata": {},
   "source": [
    "#### b.6) Vlastní implementace FIR filtru\n",
    "V této části je demonstrována implementace vlastního FIR filtru podle přednášek. Řád je zvolen znovu jako 255. Vykresleny jsou všechny iterace.  "
   ]
  },
  {
   "cell_type": "code",
   "execution_count": null,
   "metadata": {},
   "outputs": [],
   "source": [
    "filter_order = 255\n",
    "filtered_data,fir_coeff = utils_functions.custom_FIR(filter_order, 300, parasite_freq, data, fs, plot=False)\n",
    "utils_functions.plot_graph_FIR(fir_coeff,filtered_data,original_data,fs,\"Vlastní implementace filtru, řád filtru = \"+str(filter_order))"
   ]
  },
  {
   "cell_type": "markdown",
   "metadata": {},
   "source": [
    "Na grafech lze vidět, že i vlastní implementace FIR filtru podle přednášek dokáže efektivně potlačit parazitní frekvenci."
   ]
  },
  {
   "cell_type": "code",
   "execution_count": null,
   "metadata": {},
   "outputs": [],
   "source": [
    "#přehrání nahrávky po filtraci \n",
    "data_float = filtered_data.astype(np.float32)\n",
    "Audio(data=filtered_data,rate=fs)"
   ]
  },
  {
   "cell_type": "markdown",
   "metadata": {},
   "source": [
    "## c) IIR filtry\n",
    "\n",
    "V této části je nejprve demonstrován vliv různých IIR filtrů a následně i vliv různých řádů filtrů. Výsledky jsou demonstrovány stejným způsobem, jako tomu bylo u FIR filtrů."
   ]
  },
  {
   "cell_type": "markdown",
   "metadata": {},
   "source": [
    "Nejprve je potřeba opět stanovit pásmo pásmové zádrže. Tentokrát je však potřeba meze znormovat.\n",
    "\n",
    "Co se týká volby šířky pásmové zádrže, tak není důvod volit jej jinak, než tomu bylo u FIR filtrů. Řád u IIR filtrů se chová jinak, protože většina použitých filtrů poskytuje dostatečně ostré přechody a útlum pro potlačení daného parazitního signálu, tedy lze použít řád filtru 1. "
   ]
  },
  {
   "cell_type": "code",
   "execution_count": null,
   "metadata": {},
   "outputs": [],
   "source": [
    "band_width = 300\n",
    "original_data = data\n",
    "dolni_mez = parasite_freq - band_width\n",
    "horni_mez = parasite_freq + band_width\n",
    "\n",
    "nyq_freq = 0.5*fs\n",
    "dolni_mez = dolni_mez/nyq_freq\n",
    "horni_mez = horni_mez/nyq_freq\n",
    "\n",
    "filter_order = 1"
   ]
  },
  {
   "cell_type": "markdown",
   "metadata": {},
   "source": [
    "#### c.1) Butterworthův IIR filtr"
   ]
  },
  {
   "cell_type": "code",
   "execution_count": null,
   "metadata": {},
   "outputs": [],
   "source": [
    "b,a = butter(filter_order,[dolni_mez, horni_mez],btype=\"bandstop\")\n",
    "\n",
    "filtered_data = filtfilt(b,a,original_data)\n",
    "\n",
    "utils_functions.plot_graph_IIR(b, a, filtered_data, original_data, fs, \"Butterworthův filtr - pásmová zádrž\")"
   ]
  },
  {
   "cell_type": "markdown",
   "metadata": {},
   "source": [
    "Z grafů je zřejmé, že Butterworthův filtr dokázal úspěšně potlačit parazitní frekvenci, jak je názorné na spektrogramu a amplitudové frekvenční charakteristice před filtrací a po filtraci."
   ]
  },
  {
   "cell_type": "code",
   "execution_count": null,
   "metadata": {},
   "outputs": [],
   "source": [
    "#přehrání nahrávky po filtraci \n",
    "data_float = filtered_data.astype(np.float32)\n",
    "Audio(data=filtered_data,rate=fs)"
   ]
  },
  {
   "cell_type": "markdown",
   "metadata": {},
   "source": [
    "#### c.2) Chebyševův IIR filtr"
   ]
  },
  {
   "cell_type": "code",
   "execution_count": null,
   "metadata": {},
   "outputs": [],
   "source": [
    "rp = 0.4\n",
    "b,a = cheby1(filter_order,rp,[dolni_mez, horni_mez],btype=\"bandstop\")\n",
    "filtered_data = filtfilt(b,a,original_data)\n",
    "\n",
    "utils_functions.plot_graph_IIR(b, a, filtered_data, original_data, fs, \"Chebyševův filtr - pásmová zádrž\")"
   ]
  },
  {
   "cell_type": "markdown",
   "metadata": {},
   "source": [
    "Čebyševův filtr dosahuje velmi podobných výsledků jako Butterworthův s tím rozdílem, že mají jinou frekvenční charakteristiku samotného filtru."
   ]
  },
  {
   "cell_type": "code",
   "execution_count": null,
   "metadata": {},
   "outputs": [],
   "source": [
    "#přehrání nahrávky po filtraci \n",
    "data_float = filtered_data.astype(np.float32)\n",
    "Audio(data=filtered_data,rate=fs)"
   ]
  },
  {
   "cell_type": "markdown",
   "metadata": {},
   "source": [
    "#### c.3) Chebyševův IIR filtr\n",
    "uvažovaný řád filtru je 1."
   ]
  },
  {
   "cell_type": "code",
   "execution_count": null,
   "metadata": {},
   "outputs": [],
   "source": [
    "rs = 20\n",
    "b,a = cheby2(filter_order,rs,[dolni_mez, horni_mez],btype=\"bandstop\")\n",
    "filtered_data = filtfilt(b,a,original_data)\n",
    "\n",
    "utils_functions.plot_graph_IIR(b, a, filtered_data, original_data, fs, \"Chebyševův filtr - pásmová zádrž\")"
   ]
  },
  {
   "cell_type": "markdown",
   "metadata": {},
   "source": [
    "Druhá varianta Čebyševova filtru dosahuje velmi odlišných výsledků oproti jeho první variantě. Je zřejmé, že pro 1. řád je přechodové pásmo samotného filtru příliš široké a způsobí tak potlačení i na frekvencích, kde se nevyskytuje parazitní signál, ale pouze řečový signál. To je velmi názorné na výsledné nahrávce."
   ]
  },
  {
   "cell_type": "code",
   "execution_count": null,
   "metadata": {},
   "outputs": [],
   "source": [
    "#přehrání nahrávky po filtraci \n",
    "data_float = filtered_data.astype(np.float32)\n",
    "Audio(data=filtered_data,rate=fs)"
   ]
  },
  {
   "cell_type": "markdown",
   "metadata": {},
   "source": [
    "Pro demonstraci správné funkce Chebyševova filtru je provedena filtrace znovu, ale tentokrát pro řád 2."
   ]
  },
  {
   "cell_type": "code",
   "execution_count": null,
   "metadata": {},
   "outputs": [],
   "source": [
    "rs = 20\n",
    "filter_order = 2 # nový řád filtru\n",
    "b,a = cheby2(filter_order,rs,[dolni_mez, horni_mez],btype=\"bandstop\")\n",
    "filtered_data = filtfilt(b,a,original_data)\n",
    "\n",
    "utils_functions.plot_graph_IIR(b, a, filtered_data, original_data, fs, \"Chebyševův filtr - pásmová zádrž\")"
   ]
  },
  {
   "cell_type": "markdown",
   "metadata": {},
   "source": [
    "Nyní po zvýšení řádu je přechodové pásmo mnohonásobně užší, což způsobuje i útlum na na parazitní frekvenci a jejím blízkém okolí a vliv na řečový signál je tak menší."
   ]
  },
  {
   "cell_type": "code",
   "execution_count": null,
   "metadata": {},
   "outputs": [],
   "source": [
    "#přehrání nahrávky po filtraci \n",
    "data_float = filtered_data.astype(np.float32)\n",
    "Audio(data=filtered_data,rate=fs)"
   ]
  },
  {
   "cell_type": "markdown",
   "metadata": {},
   "source": [
    "#### c.4) Cauerův IIR filtr"
   ]
  },
  {
   "cell_type": "code",
   "execution_count": null,
   "metadata": {},
   "outputs": [],
   "source": [
    "filter_order =1 \n",
    "b,a = ellip(filter_order,rp,rs,[dolni_mez,horni_mez],btype=\"bandstop\")\n",
    "filtered_data = filtfilt(b,a,original_data)\n",
    "utils_functions.plot_graph_IIR(b, a, filtered_data, original_data, fs, \"Cauerův filtr - pásmová zádrž\")"
   ]
  },
  {
   "cell_type": "code",
   "execution_count": null,
   "metadata": {},
   "outputs": [],
   "source": [
    "#přehrání nahrávky po filtraci \n",
    "data_float = filtered_data.astype(np.float32)\n",
    "Audio(data=filtered_data,rate=fs)"
   ]
  },
  {
   "cell_type": "markdown",
   "metadata": {},
   "source": [
    "#### c.5) Butterworthův IIR filtr pro různé řády\n",
    "V této části je demonstrován vliv řádu filtru na kvalitu filtrace parazitní frekvence. Konkrétně budou demonstrovány řády 1, 10 a 100. "
   ]
  },
  {
   "cell_type": "code",
   "execution_count": null,
   "metadata": {},
   "outputs": [],
   "source": [
    "#butterworth pro ruze rady\n",
    "filter_order_list = [1, 10, 100]\n",
    "\n",
    "\n",
    "for order in filter_order_list:\n",
    "    sos = butter(order, [dolni_mez, horni_mez], btype=\"bandstop\", output='sos')\n",
    "    \n",
    "    filtered_data = sosfiltfilt(sos, original_data)\n",
    "    \n",
    "    if order==1:\n",
    "        result_filtered_data = filtered_data # pro dalsi zpracovani\n",
    "    utils_functions.plot_graph_IIR_sos(sos, filtered_data, original_data, fs,\n",
    "                       \"Butterworth Bandstop Filter, order = \" + str(order))"
   ]
  },
  {
   "cell_type": "markdown",
   "metadata": {},
   "source": [
    "Z grafů lze vidět, že zvýšením řádu se snižuje přechodové pásmo filtru a jeho amplitudová frekvenční charakteristika je ostřejší a dosahuje větší amplitudy. To však může způsobit potlačení nejen parazitního signálu."
   ]
  },
  {
   "cell_type": "code",
   "execution_count": null,
   "metadata": {},
   "outputs": [],
   "source": [
    "#přehrání nahrávky po filtraci \n",
    "data_float = result_filtered_data.astype(np.float32)\n",
    "Audio(data=result_filtered_data,rate=fs)"
   ]
  },
  {
   "cell_type": "markdown",
   "metadata": {},
   "source": [
    "# 2. ukol - převzorkování signálu na 8kHz\n",
    "Pro převzorkování signálu je nejprve nutné použít filtr typu dolní propust na hodnotu menší než 4kHz. To je dáno Nyquistovu-Shanonnovu teorému, který říká, že vzorkovací frekvence musí být nejméně 2x větší než frekvence obsažena v signálu. "
   ]
  },
  {
   "cell_type": "code",
   "execution_count": null,
   "metadata": {},
   "outputs": [],
   "source": [
    "#Použití vyfiltrovaných dat \n",
    "\n",
    "target_cutoff = 3800 # frekvence pro low pass filtr\n",
    "lowpass_order = 6 # řád filtru\n",
    "b_low, a_low = butter(lowpass_order, target_cutoff / (0.5 * fs), btype='low')\n",
    "filtered_low = filtfilt(b_low, a_low, result_filtered_data)\n",
    "\n",
    "t_origin = np.arange(len(filtered_low)) / fs\n",
    "\n",
    "fs_resample = 8000\n",
    "t_new = np.arange(len(filtered_low)) / fs_resample\n",
    "t_new_valid = np.array([t for t in t_new if t <= t_origin[-1]])\n",
    "resampled_data = np.interp(t_new_valid, t_origin, filtered_low)\n",
    "\n",
    "print(\"Nová vzorkovací frekvence:\", fs_resample, \"Hz\")\n",
    "\n",
    "plt.figure(figsize=(12, 6))\n",
    "plt.plot(t_origin, filtered_low, label='Původní signál', linewidth=1)\n",
    "plt.plot(t_new_valid, resampled_data, 'r-', label='Převzorkovaný signál (interp)', linewidth=1)\n",
    "plt.xlabel(\"Čas (s)\")\n",
    "plt.ylabel(\"Amplituda\")\n",
    "plt.title(\"Porovnání původního a převzorkovaného signálu (interp)\")\n",
    "plt.legend()\n",
    "plt.grid(True)\n",
    "plt.show()\n",
    "\n",
    "# ověření pomocí funkce resample\n",
    "\n",
    "num_samples_new = int(np.round(len(filtered_low) * fs_resample / fs))\n",
    "resampled_data_func = resample(filtered_low, num_samples_new)\n",
    "t_resampled = np.arange(len(resampled_data_func)) / fs_resample\n",
    "\n",
    "plt.figure(figsize=(12, 6))\n",
    "plt.plot(t_origin, filtered_low, label='Původní signál', linewidth=1)\n",
    "plt.plot(t_resampled, resampled_data_func, 'r-', label='Převzorkovaný signál (resample)', linewidth=1)\n",
    "plt.xlabel(\"Čas (s)\")\n",
    "plt.ylabel(\"Amplituda\")\n",
    "plt.title(\"Porovnání původního a převzorkovaného signálu (resample)\")\n",
    "plt.legend()\n",
    "plt.grid(True)\n",
    "plt.show()\n",
    "\n",
    "utils_functions.plot_spectrogram(resampled_data,fs_resample)\n",
    "\n",
    "freqs, amp=utils_functions.compute_fourier(resampled_data,fs_resample)\n",
    "plt.figure(figsize=(10, 6))\n",
    "plt.plot(freqs, amp, linewidth=1)\n",
    "plt.title('Amplitude-Frequency Characteristic')\n",
    "plt.xlabel('Frequency [Hz]')\n",
    "plt.ylabel('Amplitude')\n",
    "plt.grid(True)\n",
    "plt.show()\n"
   ]
  },
  {
   "cell_type": "markdown",
   "metadata": {},
   "source": [
    "Z grafů je velmi dobře vidět, že převzorkováním signálu nebyla ztracena téměř žádná informace, jelikož původní a převzorkované signály jsou téměř identické v amplitudě.  "
   ]
  },
  {
   "cell_type": "markdown",
   "metadata": {},
   "source": [
    "# 3) Odstranění aditivního šumu\n",
    "Pro odstranění aditivního šumu bude použita metoda spektrálního odečtu. \n",
    "\n",
    "Charakteristiky šumu neznáme, tedy je nutné je odhadnout. "
   ]
  },
  {
   "cell_type": "code",
   "execution_count": null,
   "metadata": {},
   "outputs": [],
   "source": [
    "# hrubý odhad částí nahrávky, kdy je aktivní pouze šum\n",
    "start_noise1 = 0\n",
    "end_noise1 = 2 \n",
    "start_noise2 = 8\n",
    "end_noise2 = len(resampled_data) / fs  \n",
    "\n",
    "idx_start_noise1 = int(start_noise1 * fs)\n",
    "idx_end_noise1   = int(end_noise1 * fs)\n",
    "idx_start_noise2 = int(start_noise2 * fs)\n",
    "idx_end_noise2   = int(end_noise2 * fs)\n",
    "\n",
    "noise_segment1 = resampled_data[idx_start_noise1:idx_end_noise1]\n",
    "noise_segment2 = resampled_data[idx_start_noise2:idx_end_noise2]\n",
    "\n",
    "noise = np.concatenate((noise_segment1, noise_segment2))\n",
    "\n",
    "t_noise = np.arange(len(noise)) / fs\n",
    "\n",
    "plt.figure(figsize=(12, 4))\n",
    "plt.plot(t_noise, noise, label=\"Vybrané segmenty šumu\", linewidth=1)\n",
    "plt.xlabel(\"Čas (s)\")\n",
    "plt.ylabel(\"Amplituda\")\n",
    "plt.title(\"Extrahované segmenty šumu (0–2 s a 8 s až do konce)\")\n",
    "plt.legend()\n",
    "plt.grid(True)\n",
    "plt.show()\n",
    "\n",
    "utils_functions.plot_spectrogram(noise, fs)"
   ]
  },
  {
   "cell_type": "markdown",
   "metadata": {},
   "source": [
    "V následující části bude aplikována metoda spektrálního odečtu spolu s demonstrováním vlivu délky segmentu či míry spektrálního odečítání. Uvnitř funkce noise_cancel dochází k rekonstrukci signálu pomocí inverzní Fourierovy transformace."
   ]
  },
  {
   "cell_type": "code",
   "execution_count": null,
   "metadata": {},
   "outputs": [],
   "source": [
    "m = 2**8 # délka segmentu\n",
    "alpha = 0.5 # míra spektrálního odečtu\n",
    "clean_data = utils_functions.noise_cancel(m,noise,resampled_data,alpha)\n",
    "\n",
    "utils_functions.plot_spectrogram(clean_data,fs_resample)\n",
    "\n",
    "clean_data_float = clean_data.astype(np.float32)\n",
    "Audio(data=clean_data_float,rate=fs_resample)"
   ]
  },
  {
   "cell_type": "markdown",
   "metadata": {},
   "source": [
    "Toto nastavení se subjektivně jeví jako nejlepší, jelikož se šum velmi výrazně potlačen a řečová část se zdá býti téměř nepoškozena, jen mírně potlačena."
   ]
  },
  {
   "cell_type": "code",
   "execution_count": null,
   "metadata": {},
   "outputs": [],
   "source": [
    "m = 2**12\n",
    "alpha = 0.5\n",
    "\n",
    "clean_data = utils_functions.noise_cancel(m,noise,resampled_data,alpha)\n",
    "\n",
    "utils_functions.plot_spectrogram(clean_data,fs_resample)\n",
    "\n",
    "clean_data_float = clean_data.astype(np.float32)\n",
    "Audio(data=clean_data_float,rate=fs_resample)"
   ]
  },
  {
   "cell_type": "code",
   "execution_count": null,
   "metadata": {},
   "outputs": [],
   "source": [
    "m = 2**12\n",
    "alpha = 0.9\n",
    "\n",
    "clean_data = utils_functions.noise_cancel(m,noise,resampled_data,alpha)\n",
    "\n",
    "utils_functions.plot_spectrogram(clean_data,fs_resample)\n",
    "\n",
    "clean_data_float = clean_data.astype(np.float32)\n",
    "Audio(data=clean_data_float,rate=fs_resample)"
   ]
  },
  {
   "cell_type": "markdown",
   "metadata": {},
   "source": [
    "Pro toto konkrétní nastavení je velmi dobře slyšet negativní vliv parametru míry potlačení šumu na řečový signál."
   ]
  },
  {
   "cell_type": "code",
   "execution_count": null,
   "metadata": {},
   "outputs": [],
   "source": [
    "m = 2**12\n",
    "alpha = 0.2\n",
    "\n",
    "clean_data = utils_functions.noise_cancel(m,noise,resampled_data,alpha)\n",
    "\n",
    "utils_functions.plot_spectrogram(clean_data,fs_resample)\n",
    "\n",
    "clean_data_float = clean_data.astype(np.float32)\n",
    "Audio(data=clean_data_float,rate=fs_resample)"
   ]
  },
  {
   "cell_type": "markdown",
   "metadata": {},
   "source": [
    "Jelikož je zde parametr míry potlačení šumu velmi nízký, tak ve výstupní nahrávce lze slyšet stále velmi výrazný vliv šumu."
   ]
  },
  {
   "cell_type": "code",
   "execution_count": null,
   "metadata": {},
   "outputs": [],
   "source": [
    "m = 2**11\n",
    "alpha = 0.6\n",
    "\n",
    "clean_data = utils_functions.noise_cancel(m,noise,resampled_data,alpha)\n",
    "\n",
    "utils_functions.plot_spectrogram(clean_data,fs_resample)\n",
    "\n",
    "clean_data_float = clean_data.astype(np.float32)\n",
    "Audio(data=clean_data_float,rate=fs_resample)"
   ]
  },
  {
   "cell_type": "markdown",
   "metadata": {},
   "source": [
    "# Závěr\n",
    "Tatp semestrální práce se zabývala zpracováním řečového signálu, který byl ovlivněn parazitní frekvencí a šumem. Cílem práce bylo odstranit parazitní frekvenci, navrhnout a aplikovat různé typy filtrů, převzorkovat signál a odstranit aditivní šum.\n",
    "\n",
    "V první části se práce zaměřila především na odstranění parazitní frekvence z řečového signálu. Pro odstranění bylo aplikováno několik různých FIR a IIR filtrů s různými parametry. Téměř ve všech případech došlo k úspěšnému odstranění parazitní frekvence. Také byl implementován vlastní FIR filtr, který však musel být aplikován kaskádně, aby byly výsledky dostatečné.\n",
    "\n",
    "Ve druhé části práce bylo provedeno převzorkování signálu na frekvenci 8 kHz. Před samotným převzorkováním byl aplikován dolní propust filtr, aby byl splněn Nyquistův-Shannonův teorém a zabráněno aliasingu. Pro převzorkování byla využita lineární interpolace.\n",
    "\n",
    "Třetí část práce se zaměřila na odstranění aditivního šumu. Byla provedena analýza šumu a odhad jeho charakteristik. Následně byla aplikována metoda spektrálního odečtu pro odstranění šumu. Byly získány různé výsledky pro různé délky segmentů a hodnoty parametrů. Z výsledků lze pozorovat, že filtrace není příliš úspěšná, tedy hluk v pozadí se stále slyšet. Lepších výsledků by bylo teoreticky možné dosáhnout pomocí složitějších metod nebo lepším odhadem charakteristik šumu.\n",
    "\n",
    "Závěrem lze shrnout, že cíle práce byly splněny. Odstranění parazitní frekvence a převzorkování signálu bylo úspěšné. Z výsledků lze pozorovat, že při přiliš vysoké hodnotě míry potlačení šumu dojde k narušení řečového signálu na úkor potlačení šumu. Naopak volba nižší hodnoty vede na menší potlačení šumu, avšak řečová část zůstává neporušena. Odstranění šumu však vyžaduje další zlepšení metod a technik. "
   ]
  }
 ],
 "metadata": {
  "kernelspec": {
   "display_name": "Python 3",
   "language": "python",
   "name": "python3"
  },
  "language_info": {
   "codemirror_mode": {
    "name": "ipython",
    "version": 3
   },
   "file_extension": ".py",
   "mimetype": "text/x-python",
   "name": "python",
   "nbconvert_exporter": "python",
   "pygments_lexer": "ipython3",
   "version": "3.10.12"
  }
 },
 "nbformat": 4,
 "nbformat_minor": 2
}
